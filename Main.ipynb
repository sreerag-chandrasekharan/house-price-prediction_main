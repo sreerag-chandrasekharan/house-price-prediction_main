{
 "cells": [
  {
   "cell_type": "markdown",
   "metadata": {},
   "source": [
    "# House price prediction"
   ]
  },
  {
   "cell_type": "markdown",
   "metadata": {},
   "source": [
    "## 1. Introduction\n",
    "\n",
    "### 1.1 Problem statment\n",
    "\n",
    "The real estate market lacks transparency and accuracy in house price estimation, making informed decisions difficult. Current methods rely on outdated data and manual evaluations, failing to address the market's dynamic nature. A Machine Learning model can bridge this gap by leveraging property features, location metrics, and historical data to deliver accurate price predictions for better decision-making.\n",
    "\n",
    "### 1.2 Objective\n",
    "\n",
    "To design and implement a machine learning-based system that predicts house prices in Delhi, India with high accuracy."
   ]
  },
  {
   "cell_type": "markdown",
   "metadata": {},
   "source": [
    "## 2. Dataset\n",
    "The dataset, sourced from Kaggle ([Kaggle link](https://www.kaggle.com/datasets/saipavansaketh/pune-house-data?select=Delhi+house+data.csv)), provides housing data with features relevant to price estimation.\n",
    "##### Features Used:\n",
    "1. **Area**: Total built-up area of the house (in sq. ft.).\n",
    "2. **Number of bedrooms**: Total number of bedrooms in the house.\n",
    "3. **Parking Space**: Number of available parking spaces.\n",
    "##### Target:\n",
    "**House price**, measured in INR (Indian Rupees)."
   ]
  },
  {
   "cell_type": "markdown",
   "metadata": {},
   "source": [
    "## 3. Package and imports"
   ]
  },
  {
   "cell_type": "code",
   "execution_count": 8,
   "metadata": {},
   "outputs": [],
   "source": [
    "# for array computations and loading data\n",
    "import numpy as np\n",
    "import pandas as pd\n",
    "\n",
    "# for building linear regression models and preparing data\n",
    "from sklearn.linear_model import LinearRegression\n",
    "from sklearn.preprocessing import StandardScaler, PolynomialFeatures\n",
    "from sklearn.model_selection import train_test_split\n",
    "from sklearn.metrics import mean_squared_error\n"
   ]
  },
  {
   "cell_type": "markdown",
   "metadata": {},
   "source": [
    "## 4. Model evaluation and selection\n",
    "### 4.1 initial evaluation of dataset"
   ]
  },
  {
   "cell_type": "code",
   "execution_count": 18,
   "metadata": {},
   "outputs": [
    {
     "name": "stdout",
     "output_type": "stream",
     "text": [
      "[[7.5e+02 2.0e+00 1.0e+00]\n",
      " [9.5e+02 2.0e+00 1.0e+00]\n",
      " [6.0e+02 2.0e+00 1.0e+00]\n",
      " [6.5e+02 2.0e+00 1.0e+00]\n",
      " [1.3e+03 4.0e+00 1.0e+00]]\n",
      "[[ 5000000]\n",
      " [15500000]\n",
      " [ 4200000]\n",
      " [ 6200000]\n",
      " [15500000]]\n",
      "the shape of the inputs x is: (1258, 3)\n",
      "the shape of the targets y is: (1258, 1)\n"
     ]
    }
   ],
   "source": [
    "# Load the dataset from the csv file\n",
    "data = pd.read_csv('./Data/Delhi house data.csv', delimiter=',', skiprows=1, na_values=[''])\n",
    "\n",
    "# Split the inputs and outputs into separate arrays using .iloc for integer-based indexing\n",
    "x = data.iloc[:, 0:3].values\n",
    "y = data.iloc[:, 3].values\n",
    "\n",
    "# Convert 1-D arrays into 2-D\n",
    "\n",
    "y = np.expand_dims(y, axis=1)\n",
    "\n",
    "# Display the first few rows of x and y to verify\n",
    "print(x[:5])\n",
    "print(y[:5])\n",
    "\n",
    "print(f\"the shape of the inputs x is: {x.shape}\")\n",
    "print(f\"the shape of the targets y is: {y.shape}\")"
   ]
  },
  {
   "cell_type": "markdown",
   "metadata": {},
   "source": []
  }
 ],
 "metadata": {
  "kernelspec": {
   "display_name": "Python 3",
   "language": "python",
   "name": "python3"
  },
  "language_info": {
   "codemirror_mode": {
    "name": "ipython",
    "version": 3
   },
   "file_extension": ".py",
   "mimetype": "text/x-python",
   "name": "python",
   "nbconvert_exporter": "python",
   "pygments_lexer": "ipython3",
   "version": "3.12.2"
  }
 },
 "nbformat": 4,
 "nbformat_minor": 2
}
