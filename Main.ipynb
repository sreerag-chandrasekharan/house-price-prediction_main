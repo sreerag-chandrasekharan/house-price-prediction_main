{
 "cells": [
  {
   "cell_type": "markdown",
   "metadata": {},
   "source": [
    "# House price prediction"
   ]
  },
  {
   "cell_type": "markdown",
   "metadata": {},
   "source": [
    "## 1. Introduction\n",
    "\n",
    "### 1.1 Problem statment\n",
    "\n",
    "The real estate market lacks transparency and accuracy in house price estimation, making informed decisions difficult. Current methods rely on outdated data and manual evaluations, failing to address the market's dynamic nature. A Machine Learning model can bridge this gap by leveraging property features, location metrics, and historical data to deliver accurate price predictions for better decision-making.\n",
    "\n",
    "### 1.2 Objective\n",
    "\n",
    "To design and implement a machine learning-based system that predicts house prices in Delhi, India with high accuracy."
   ]
  },
  {
   "cell_type": "markdown",
   "metadata": {},
   "source": [
    "## 2. Dataset\n",
    "The dataset, sourced from Kaggle ([Kaggle link](https://www.kaggle.com/datasets/saipavansaketh/pune-house-data?select=Delhi+house+data.csv)), provides housing data with features relevant to price estimation.\n",
    "##### Features Used:\n",
    "1. **Area**: Total built-up area of the house (in sq. ft.).\n",
    "2. **Number of bedrooms**: Total number of bedrooms in the house.\n",
    "3. **Parking Space**: Number of available parking spaces.\n",
    "##### Target:\n",
    "**House price**, measured in INR (Indian Rupees)."
   ]
  },
  {
   "cell_type": "markdown",
   "metadata": {},
   "source": [
    "## 3. Package and imports"
   ]
  },
  {
   "cell_type": "code",
   "execution_count": 1,
   "metadata": {},
   "outputs": [],
   "source": [
    "# for array computations and loading data\n",
    "import numpy as np\n",
    "\n",
    "# for building linear regression models and preparing data\n",
    "from sklearn.linear_model import LinearRegression\n",
    "from sklearn.preprocessing import StandardScaler, PolynomialFeatures\n",
    "from sklearn.model_selection import train_test_split\n",
    "from sklearn.metrics import mean_squared_error\n"
   ]
  },
  {
   "cell_type": "markdown",
   "metadata": {},
   "source": [
    "## 4. Model evalvation and selection\n",
    "### 4.1 initial evalvation of dataset"
   ]
  },
  {
   "cell_type": "markdown",
   "metadata": {},
   "source": []
  }
 ],
 "metadata": {
  "kernelspec": {
   "display_name": "Python 3",
   "language": "python",
   "name": "python3"
  },
  "language_info": {
   "codemirror_mode": {
    "name": "ipython",
    "version": 3
   },
   "file_extension": ".py",
   "mimetype": "text/x-python",
   "name": "python",
   "nbconvert_exporter": "python",
   "pygments_lexer": "ipython3",
   "version": "3.12.2"
  }
 },
 "nbformat": 4,
 "nbformat_minor": 2
}
